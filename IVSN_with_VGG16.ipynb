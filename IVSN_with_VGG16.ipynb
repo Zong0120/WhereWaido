{
  "nbformat": 4,
  "nbformat_minor": 0,
  "metadata": {
    "colab": {
      "provenance": [],
      "authorship_tag": "ABX9TyOU4Hp+tCWtM2Epmr34u6rB"
    },
    "kernelspec": {
      "name": "python3",
      "display_name": "Python 3"
    },
    "language_info": {
      "name": "python"
    }
  },
  "cells": [
    {
      "cell_type": "code",
      "execution_count": null,
      "metadata": {
        "id": "pYGxWn5Ql9m4"
      },
      "outputs": [],
      "source": [
        "#匯入套件與設定環境\n",
        "import numpy as np\n",
        "import matplotlib.pyplot as plt\n",
        "import torch\n",
        "import torch.nn as nn\n",
        "import torchvision.models as models\n",
        "import torchvision.transforms as transforms\n",
        "import scipy.io as sio\n",
        "import os\n",
        "import shutil\n",
        "from PIL import Image\n",
        "from google.colab import files"
      ]
    },
    {
      "cell_type": "code",
      "source": [
        "#調整大小\n",
        "def resize_image(image, size = (2048, 1536)):\n",
        "\n",
        "  width, height = image.size\n",
        "  aspect_ratio = 4 / 3\n",
        "\n",
        "  #計算4:3的裁剪範圍\n",
        "  if width / height > aspect_ratio:\n",
        "    #圖片太寬，以高度為基準計算新寬度\n",
        "    new_width = int(height * aspect_ratio)\n",
        "    new_height = height\n",
        "  else:\n",
        "    #圖片太高，以寬度為基準計算新高度\n",
        "    new_width = width\n",
        "    new_height = int(width / aspect_ratio)\n",
        "\n",
        "  #計算裁剪的範圍（從中心開始）\n",
        "  left = (width - new_width) // 2\n",
        "  top = (height - new_height) // 2\n",
        "  right = left + new_width\n",
        "  bottom = top + new_height\n",
        "\n",
        "  #裁剪4:3區域\n",
        "  img_cropped = image.crop((left, top, right, bottom))\n",
        "\n",
        "  #調整大小\n",
        "  img_resized = img_cropped.resize(size, Image.LANCZOS)\n",
        "\n",
        "  return img_resized"
      ],
      "metadata": {
        "collapsed": true,
        "id": "_bg6VnzW5OUS"
      },
      "execution_count": null,
      "outputs": []
    },
    {
      "cell_type": "code",
      "source": [
        "#圖片分割\n",
        "def split_image(image, block_size = (256, 256)):\n",
        "\n",
        "  width, height = image.size\n",
        "  num_row = height // block_size[1]\n",
        "  num_col = width // block_size[0]\n",
        "  blocks = []\n",
        "\n",
        "  for row in range(num_row):\n",
        "    for col in range(num_col):\n",
        "      left = col * block_size[0]   #左上角x座標\n",
        "      top = row * block_size[1]   #左上角y座標\n",
        "      right = left + block_size[0]  #右下角x座標\n",
        "      bottom = top + block_size[1]  #右下角y座標\n",
        "\n",
        "      #裁剪圖片\n",
        "      block = image.crop((left, top, right, bottom))\n",
        "      blocks.append(block)\n",
        "\n",
        "  return blocks"
      ],
      "metadata": {
        "id": "kawYQxyV5OnH"
      },
      "execution_count": null,
      "outputs": []
    },
    {
      "cell_type": "code",
      "source": [
        "#轉成tensor\n",
        "transform = transforms.ToTensor()\n",
        "\n",
        "def process_blocks(blocks):\n",
        "\n",
        "  processed_blocks = []\n",
        "\n",
        "  for block in blocks:\n",
        "    processed_block = transform(block)\n",
        "    processed_blocks.append(processed_block)\n",
        "\n",
        "  return torch.stack(processed_blocks) #增加batch維度為(48,3,256,256)"
      ],
      "metadata": {
        "id": "g-nTPU9vLwQI",
        "collapsed": true
      },
      "execution_count": null,
      "outputs": []
    },
    {
      "cell_type": "code",
      "source": [
        "#定義模型架構\n",
        "#特徵萃取\n",
        "vgg16 = models.vgg16(weights=models.VGG16_Weights.IMAGENET1K_V1).features.eval()\n",
        "\n",
        "for parameter in vgg16.parameters():\n",
        "    parameter.requires_grad = False\n",
        "\n",
        "#輸入(48,1,256,256,3)，輸出(48,512,16,16,3)\n",
        "model_search = nn.Sequential(*list(vgg16.children())[:30])\n",
        "model_search.eval()\n",
        "\n",
        "#輸入(1,1,32,32,3)，輸出(1,512,1,1,3)\n",
        "model_target = nn.Sequential(*list(vgg16.children())[:31])\n",
        "model_target.eval()\n",
        "\n",
        "#特徵比對\n",
        "def feature_matching(search_features, target_features):\n",
        "\n",
        "  input_channel = 512\n",
        "  output_channel = 1\n",
        "\n",
        "  matching = nn.Conv2d(input_channel, output_channel, kernel_size = 1)\n",
        "\n",
        "  #權重格式(out_channels,in_channels,kernel_height,kernel_width)\n",
        "  target_features = target_features.unsqueeze(0) #輸出為(1,512,1,1)\n",
        "\n",
        "  #目標特徵作為kernel權重\n",
        "  matching.weight = nn.Parameter(target_features)\n",
        "\n",
        "  #進行卷積\n",
        "  attention_blocks = matching(search_features) #輸出為(48,1,16,16)\n",
        "\n",
        "  return attention_blocks\n",
        "\n",
        "#合成注意力圖\n",
        "def generate_attention_map(attention_blocks):\n",
        "\n",
        "  nr, nc = 6, 8\n",
        "  attention_blocks = attention_blocks.view(nr, nc, 1, 16, 16)\n",
        "\n",
        "  #橫向拼接，先拼出每一列\n",
        "  row_images = []\n",
        "\n",
        "  for i in range(nr):\n",
        "    row_image = attention_blocks[i][0]\n",
        "\n",
        "    for j in range(1, nc):\n",
        "      row_image = torch.cat((row_image, attention_blocks[i][j]), dim = 2)\n",
        "\n",
        "    row_images.append(row_image)\n",
        "    print(f\"row_image shape after concatenation: {row_image.shape}\")\n",
        "\n",
        "  #縱向拼接，再把每一列拼成整張圖\n",
        "  attention_map = torch.cat(row_images, dim = 1)\n",
        "  print(f\"attention_map.shape in torch:{attention_map.shape}\")\n",
        "\n",
        "  attention_map = attention_map.detach().numpy()\n",
        "\n",
        "  return attention_map"
      ],
      "metadata": {
        "id": "ZzQrSbGm-TxA"
      },
      "execution_count": null,
      "outputs": []
    },
    {
      "cell_type": "code",
      "source": [
        "# files.upload()\n",
        "# arr = [2, 3, 6 ,7 ,9] #原本dataset的原圖編號\n",
        "arr = [2]\n",
        "\n",
        "target_image = Image.open(\"waldo_head.jpg\")\n",
        "print(f\"target_image shape:{target_image.size}\")\n",
        "\n",
        "target_image = target_image.resize((32, 32))\n",
        "print(f\"target_image shape:{target_image.size}\")\n",
        "\n",
        "target_tensor = transform(target_image) #輸出(3,32,32)\n",
        "print(f\"target_tensor shape:{target_tensor.shape}\")\n",
        "\n",
        "min = target_tensor.min()\n",
        "max = target_tensor.max()\n",
        "print(f\"min:{min}\")\n",
        "print(f\"max:{max}\")\n",
        "\n",
        "target_features = model_target(target_tensor) #輸出(512,1,1)\n",
        "print(f\"target_features shape:{target_features.shape}\")\n",
        "\n",
        "for i in range(len(arr)):\n",
        "  search_image = Image.open(f\"{arr[i]}.jpg\")\n",
        "  print(f\"search_image shape:{search_image.size}\")\n",
        "\n",
        "  search_image = resize_image(search_image)\n",
        "  print(f\"search_image shape:{search_image.size}\")\n",
        "\n",
        "  search_blocks = split_image(search_image)\n",
        "  print(f\"search_blocks shape:{len(search_blocks)}\")\n",
        "\n",
        "  search_tensor = process_blocks(search_blocks) #輸出(48,3,256,256)\n",
        "  print(f\"search_tensor shape:{search_tensor.shape}\")\n",
        "\n",
        "  search_features = model_search(search_tensor) #輸出(48,512,16,16)\n",
        "  print(f\"search_features shape:{search_features.shape}\")\n",
        "\n",
        "  attention_blocks = feature_matching(search_features, target_features) #輸出(48,1,16,16)\n",
        "  print(f\"attention_blocks shape:{attention_blocks.shape}\")\n",
        "\n",
        "  attention_map = generate_attention_map(attention_blocks) #輸出(96,128)\n",
        "  print(f\"attention_map shape:{attention_map.shape}\")\n",
        "\n",
        "  attention_map = np.transpose(attention_map, (1, 2, 0))\n",
        "\n",
        "  plt.imshow(attention_map, cmap = \"hot\")\n",
        "  plt.axis('off')\n",
        "  plt.show()\n"
      ],
      "metadata": {
        "id": "d3aBqjdenBYW",
        "colab": {
          "base_uri": "https://localhost:8080/",
          "height": 753
        },
        "collapsed": true,
        "outputId": "e8d4fd1f-d865-4eb4-fd40-46ea067916b5"
      },
      "execution_count": null,
      "outputs": [
        {
          "output_type": "stream",
          "name": "stdout",
          "text": [
            "target_image shape:(256, 256)\n",
            "target_image shape:(32, 32)\n",
            "target_tensor shape:torch.Size([3, 32, 32])\n",
            "min:0.0\n",
            "max:1.0\n",
            "target_features shape:torch.Size([512, 1, 1])\n",
            "search_image shape:(1286, 946)\n",
            "search_image shape:(2048, 1536)\n",
            "search_blocks shape:48\n",
            "search_tensor shape:torch.Size([48, 3, 256, 256])\n",
            "search_features shape:torch.Size([48, 512, 16, 16])\n",
            "attention_blocks shape:torch.Size([48, 1, 16, 16])\n",
            "row_image shape after concatenation: torch.Size([1, 16, 128])\n",
            "row_image shape after concatenation: torch.Size([1, 16, 128])\n",
            "row_image shape after concatenation: torch.Size([1, 16, 128])\n",
            "row_image shape after concatenation: torch.Size([1, 16, 128])\n",
            "row_image shape after concatenation: torch.Size([1, 16, 128])\n",
            "row_image shape after concatenation: torch.Size([1, 16, 128])\n",
            "attention_map.shape in torch:torch.Size([1, 96, 128])\n",
            "attention_map shape:(1, 96, 128)\n"
          ]
        },
        {
          "output_type": "display_data",
          "data": {
            "text/plain": [
              "<Figure size 640x480 with 1 Axes>"
            ],
            "image/png": "[encoded data removed]"
          },
          "metadata": {}
        }
      ]
    }
  ]
}